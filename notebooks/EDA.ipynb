{
 "cells": [
  {
   "cell_type": "code",
   "execution_count": 21,
   "metadata": {},
   "outputs": [],
   "source": [
    "import numpy as np\n",
    "import pandas as pd\n",
    "from datetime import datetime"
   ]
  },
  {
   "cell_type": "code",
   "execution_count": 22,
   "metadata": {},
   "outputs": [],
   "source": [
    "df_BTC = pd.read_csv('../data/raw/BTC-USD (2014-2024).csv')"
   ]
  },
  {
   "cell_type": "code",
   "execution_count": 23,
   "metadata": {},
   "outputs": [],
   "source": [
    "df_ETH = pd.read_csv(\"../data/raw/ETH-USD (2017-2024).csv\")"
   ]
  },
  {
   "cell_type": "code",
   "execution_count": 24,
   "metadata": {},
   "outputs": [
    {
     "data": {
      "text/html": [
       "<div>\n",
       "<style scoped>\n",
       "    .dataframe tbody tr th:only-of-type {\n",
       "        vertical-align: middle;\n",
       "    }\n",
       "\n",
       "    .dataframe tbody tr th {\n",
       "        vertical-align: top;\n",
       "    }\n",
       "\n",
       "    .dataframe thead th {\n",
       "        text-align: right;\n",
       "    }\n",
       "</style>\n",
       "<table border=\"1\" class=\"dataframe\">\n",
       "  <thead>\n",
       "    <tr style=\"text-align: right;\">\n",
       "      <th></th>\n",
       "      <th>Open</th>\n",
       "      <th>High</th>\n",
       "      <th>Low</th>\n",
       "      <th>Close</th>\n",
       "      <th>Adj Close</th>\n",
       "      <th>Volume</th>\n",
       "    </tr>\n",
       "  </thead>\n",
       "  <tbody>\n",
       "    <tr>\n",
       "      <th>count</th>\n",
       "      <td>3413.000000</td>\n",
       "      <td>3413.000000</td>\n",
       "      <td>3413.000000</td>\n",
       "      <td>3413.000000</td>\n",
       "      <td>3413.000000</td>\n",
       "      <td>3.413000e+03</td>\n",
       "    </tr>\n",
       "    <tr>\n",
       "      <th>mean</th>\n",
       "      <td>14755.235325</td>\n",
       "      <td>15099.657349</td>\n",
       "      <td>14384.058077</td>\n",
       "      <td>14765.995800</td>\n",
       "      <td>14765.995800</td>\n",
       "      <td>1.662879e+10</td>\n",
       "    </tr>\n",
       "    <tr>\n",
       "      <th>std</th>\n",
       "      <td>16297.740573</td>\n",
       "      <td>16687.803094</td>\n",
       "      <td>15860.348001</td>\n",
       "      <td>16299.494608</td>\n",
       "      <td>16299.494608</td>\n",
       "      <td>1.907347e+10</td>\n",
       "    </tr>\n",
       "    <tr>\n",
       "      <th>min</th>\n",
       "      <td>176.897003</td>\n",
       "      <td>211.731003</td>\n",
       "      <td>171.509995</td>\n",
       "      <td>178.102997</td>\n",
       "      <td>178.102997</td>\n",
       "      <td>5.914570e+06</td>\n",
       "    </tr>\n",
       "    <tr>\n",
       "      <th>25%</th>\n",
       "      <td>922.067017</td>\n",
       "      <td>937.525024</td>\n",
       "      <td>910.416992</td>\n",
       "      <td>921.789001</td>\n",
       "      <td>921.789001</td>\n",
       "      <td>1.689680e+08</td>\n",
       "    </tr>\n",
       "    <tr>\n",
       "      <th>50%</th>\n",
       "      <td>8290.759766</td>\n",
       "      <td>8470.988281</td>\n",
       "      <td>8110.770020</td>\n",
       "      <td>8293.868164</td>\n",
       "      <td>8293.868164</td>\n",
       "      <td>1.171838e+10</td>\n",
       "    </tr>\n",
       "    <tr>\n",
       "      <th>75%</th>\n",
       "      <td>24373.457031</td>\n",
       "      <td>25020.458984</td>\n",
       "      <td>23927.910156</td>\n",
       "      <td>24402.818359</td>\n",
       "      <td>24402.818359</td>\n",
       "      <td>2.696772e+10</td>\n",
       "    </tr>\n",
       "    <tr>\n",
       "      <th>max</th>\n",
       "      <td>67549.734375</td>\n",
       "      <td>68789.625000</td>\n",
       "      <td>66382.062500</td>\n",
       "      <td>67566.828125</td>\n",
       "      <td>67566.828125</td>\n",
       "      <td>3.509679e+11</td>\n",
       "    </tr>\n",
       "  </tbody>\n",
       "</table>\n",
       "</div>"
      ],
      "text/plain": [
       "               Open          High           Low         Close     Adj Close  \\\n",
       "count   3413.000000   3413.000000   3413.000000   3413.000000   3413.000000   \n",
       "mean   14755.235325  15099.657349  14384.058077  14765.995800  14765.995800   \n",
       "std    16297.740573  16687.803094  15860.348001  16299.494608  16299.494608   \n",
       "min      176.897003    211.731003    171.509995    178.102997    178.102997   \n",
       "25%      922.067017    937.525024    910.416992    921.789001    921.789001   \n",
       "50%     8290.759766   8470.988281   8110.770020   8293.868164   8293.868164   \n",
       "75%    24373.457031  25020.458984  23927.910156  24402.818359  24402.818359   \n",
       "max    67549.734375  68789.625000  66382.062500  67566.828125  67566.828125   \n",
       "\n",
       "             Volume  \n",
       "count  3.413000e+03  \n",
       "mean   1.662879e+10  \n",
       "std    1.907347e+10  \n",
       "min    5.914570e+06  \n",
       "25%    1.689680e+08  \n",
       "50%    1.171838e+10  \n",
       "75%    2.696772e+10  \n",
       "max    3.509679e+11  "
      ]
     },
     "execution_count": 24,
     "metadata": {},
     "output_type": "execute_result"
    }
   ],
   "source": [
    "df_BTC.describe()"
   ]
  },
  {
   "cell_type": "code",
   "execution_count": 25,
   "metadata": {},
   "outputs": [
    {
     "data": {
      "text/plain": [
       "(3413, 7)"
      ]
     },
     "execution_count": 25,
     "metadata": {},
     "output_type": "execute_result"
    }
   ],
   "source": [
    "df_BTC.shape"
   ]
  },
  {
   "cell_type": "code",
   "execution_count": 26,
   "metadata": {},
   "outputs": [
    {
     "data": {
      "text/html": [
       "<div>\n",
       "<style scoped>\n",
       "    .dataframe tbody tr th:only-of-type {\n",
       "        vertical-align: middle;\n",
       "    }\n",
       "\n",
       "    .dataframe tbody tr th {\n",
       "        vertical-align: top;\n",
       "    }\n",
       "\n",
       "    .dataframe thead th {\n",
       "        text-align: right;\n",
       "    }\n",
       "</style>\n",
       "<table border=\"1\" class=\"dataframe\">\n",
       "  <thead>\n",
       "    <tr style=\"text-align: right;\">\n",
       "      <th></th>\n",
       "      <th>Date</th>\n",
       "      <th>Open</th>\n",
       "      <th>High</th>\n",
       "      <th>Low</th>\n",
       "      <th>Close</th>\n",
       "      <th>Adj Close</th>\n",
       "      <th>Volume</th>\n",
       "    </tr>\n",
       "  </thead>\n",
       "  <tbody>\n",
       "    <tr>\n",
       "      <th>0</th>\n",
       "      <td>2014-09-18</td>\n",
       "      <td>456.859985</td>\n",
       "      <td>456.859985</td>\n",
       "      <td>413.104004</td>\n",
       "      <td>424.440002</td>\n",
       "      <td>424.440002</td>\n",
       "      <td>34483200</td>\n",
       "    </tr>\n",
       "    <tr>\n",
       "      <th>1</th>\n",
       "      <td>2014-09-19</td>\n",
       "      <td>424.102997</td>\n",
       "      <td>427.834991</td>\n",
       "      <td>384.532013</td>\n",
       "      <td>394.795990</td>\n",
       "      <td>394.795990</td>\n",
       "      <td>37919700</td>\n",
       "    </tr>\n",
       "    <tr>\n",
       "      <th>2</th>\n",
       "      <td>2014-09-20</td>\n",
       "      <td>394.673004</td>\n",
       "      <td>423.295990</td>\n",
       "      <td>389.882996</td>\n",
       "      <td>408.903992</td>\n",
       "      <td>408.903992</td>\n",
       "      <td>36863600</td>\n",
       "    </tr>\n",
       "    <tr>\n",
       "      <th>3</th>\n",
       "      <td>2014-09-21</td>\n",
       "      <td>408.084991</td>\n",
       "      <td>412.425995</td>\n",
       "      <td>393.181000</td>\n",
       "      <td>398.821014</td>\n",
       "      <td>398.821014</td>\n",
       "      <td>26580100</td>\n",
       "    </tr>\n",
       "    <tr>\n",
       "      <th>4</th>\n",
       "      <td>2014-09-22</td>\n",
       "      <td>399.100006</td>\n",
       "      <td>406.915985</td>\n",
       "      <td>397.130005</td>\n",
       "      <td>402.152008</td>\n",
       "      <td>402.152008</td>\n",
       "      <td>24127600</td>\n",
       "    </tr>\n",
       "  </tbody>\n",
       "</table>\n",
       "</div>"
      ],
      "text/plain": [
       "         Date        Open        High         Low       Close   Adj Close  \\\n",
       "0  2014-09-18  456.859985  456.859985  413.104004  424.440002  424.440002   \n",
       "1  2014-09-19  424.102997  427.834991  384.532013  394.795990  394.795990   \n",
       "2  2014-09-20  394.673004  423.295990  389.882996  408.903992  408.903992   \n",
       "3  2014-09-21  408.084991  412.425995  393.181000  398.821014  398.821014   \n",
       "4  2014-09-22  399.100006  406.915985  397.130005  402.152008  402.152008   \n",
       "\n",
       "     Volume  \n",
       "0  34483200  \n",
       "1  37919700  \n",
       "2  36863600  \n",
       "3  26580100  \n",
       "4  24127600  "
      ]
     },
     "execution_count": 26,
     "metadata": {},
     "output_type": "execute_result"
    }
   ],
   "source": [
    "df_BTC.head()"
   ]
  },
  {
   "cell_type": "code",
   "execution_count": 27,
   "metadata": {},
   "outputs": [],
   "source": [
    "df_BTC['Date'] = pd.to_datetime(df_BTC['Date'])"
   ]
  },
  {
   "cell_type": "code",
   "execution_count": 28,
   "metadata": {},
   "outputs": [
    {
     "name": "stdout",
     "output_type": "stream",
     "text": [
      "<class 'pandas.core.frame.DataFrame'>\n",
      "RangeIndex: 3413 entries, 0 to 3412\n",
      "Data columns (total 7 columns):\n",
      " #   Column     Non-Null Count  Dtype         \n",
      "---  ------     --------------  -----         \n",
      " 0   Date       3413 non-null   datetime64[ns]\n",
      " 1   Open       3413 non-null   float64       \n",
      " 2   High       3413 non-null   float64       \n",
      " 3   Low        3413 non-null   float64       \n",
      " 4   Close      3413 non-null   float64       \n",
      " 5   Adj Close  3413 non-null   float64       \n",
      " 6   Volume     3413 non-null   int64         \n",
      "dtypes: datetime64[ns](1), float64(5), int64(1)\n",
      "memory usage: 186.8 KB\n"
     ]
    }
   ],
   "source": [
    "df_BTC.info()"
   ]
  }
 ],
 "metadata": {
  "kernelspec": {
   "display_name": "532_HomeScope",
   "language": "python",
   "name": "python3"
  },
  "language_info": {
   "codemirror_mode": {
    "name": "ipython",
    "version": 3
   },
   "file_extension": ".py",
   "mimetype": "text/x-python",
   "name": "python",
   "nbconvert_exporter": "python",
   "pygments_lexer": "ipython3",
   "version": "3.12.2"
  }
 },
 "nbformat": 4,
 "nbformat_minor": 2
}
